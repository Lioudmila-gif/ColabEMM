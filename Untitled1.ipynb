{
  "nbformat": 4,
  "nbformat_minor": 0,
  "metadata": {
    "colab": {
      "provenance": [],
      "authorship_tag": "ABX9TyPA+6Zr+5tWbsbibuCatC92",
      "include_colab_link": true
    },
    "kernelspec": {
      "name": "python3",
      "display_name": "Python 3"
    },
    "language_info": {
      "name": "python"
    }
  },
  "cells": [
    {
      "cell_type": "markdown",
      "metadata": {
        "id": "view-in-github",
        "colab_type": "text"
      },
      "source": [
        "<a href=\"https://colab.research.google.com/github/Lioudmila-gif/ColabEMM/blob/main/Untitled1.ipynb\" target=\"_parent\"><img src=\"https://colab.research.google.com/assets/colab-badge.svg\" alt=\"Open In Colab\"/></a>"
      ]
    },
    {
      "cell_type": "code",
      "execution_count": null,
      "metadata": {
        "id": "Eu1iqnstPgUh"
      },
      "outputs": [],
      "source": [
        "import tensorflow as tf\n",
        "from tensorflow import keras\n",
        "import numpy as np\n",
        "\n",
        "model = tf.keras.Sequential([keras.layers.Dense(units=1, input_shape=[1])])\n",
        "\n",
        "model.compile(optimizer ='sgd', loss='mean_squared_error')\n",
        "\n",
        "# Input data\n",
        "xs = np.array([1, 2, 3], dtype=float)\n",
        "ys = np.array([2, 4, 6], dtype=float)\n",
        "\n",
        "model.fit(xs, ys, epochs = 500)\n",
        "# Predict\n",
        "print(model.predict(np.array([7])))"
      ]
    }
  ]
}