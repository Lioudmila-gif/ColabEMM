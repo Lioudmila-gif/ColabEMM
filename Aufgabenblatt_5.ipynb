{
  "cells": [
    {
      "cell_type": "markdown",
      "metadata": {
        "id": "Dg_WulSXk6qu"
      },
      "source": [
        "# Aufgabenblatt 5\n"
      ]
    },
    {
      "cell_type": "markdown",
      "metadata": {
        "id": "dmMbYLGYk6qy"
      },
      "source": [
        "\n",
        "## Nichtlineare Optimierung ohne Nebenbedingungen\n"
      ]
    },
    {
      "cell_type": "markdown",
      "metadata": {
        "id": "CwmKxHqvk6qz"
      },
      "source": [
        "### Aufgabe 1"
      ]
    },
    {
      "cell_type": "markdown",
      "metadata": {
        "id": "cONehd2ek6q0"
      },
      "source": [
        "Für folgendes Optimierungsproblem:\n",
        "\n",
        "$$ (x-0.5)^2 + (2-x)^{-2} \\to \\text{min},  \\quad 0 \\leq x \\leq 1 $$\n"
      ]
    },
    {
      "cell_type": "markdown",
      "metadata": {
        "id": "viz3Lh-gk6q0"
      },
      "source": [
        "a) Finden Sie die Lösung mit Hilfe von SymPy. Zeichnen Sie die Zielfunktion und die Lösung."
      ]
    },
    {
      "cell_type": "markdown",
      "metadata": {
        "id": "7fgudBjok6q1"
      },
      "source": [
        "b) Führen Sie drei Iterationsschritte der Goldenen-Schnitt-Suche durch. Beachten Sie, dass bei jedem Iteratonsschritt nur ein Funktionswert berechnet werden soll (sonst werden Punkte abgezogen)."
      ]
    },
    {
      "cell_type": "markdown",
      "metadata": {
        "id": "MGYfPNqek6q1"
      },
      "source": [
        "c) Wie viele Interationsschritte braucht man, um die Lösung mit einer Genauigkeit von gegebenem $ \\epsilon $ zu finden?"
      ]
    },
    {
      "cell_type": "markdown",
      "metadata": {
        "id": "_RRThEhgk6q2"
      },
      "source": [
        "d) Bestätigen Sie Ihre theoretischen Überlegungen aus c) mit Programmdurchlauf für  $ \\epsilon = 0.1 $ , $ \\epsilon = 0.01  $ und $ \\epsilon = 0.005  $."
      ]
    },
    {
      "cell_type": "code",
      "source": [
        "# prompt: Lösung mit Hilfe von SympY (x - 0.5)^2 + (2-x)^-2 -> min, 0 <= x <= 1\n",
        "\n",
        "import sympy\n",
        "import numpy as np\n",
        "import matplotlib.pyplot as plt\n",
        "\n",
        "# Define the symbolic variable and the objective function\n",
        "x = sympy.Symbol('x')\n",
        "f = (x - 0.5)**2 + (2 - x)**(-2)\n",
        "\n",
        "# Find the derivative of the objective function\n",
        "df = sympy.diff(f, x)\n",
        "\n",
        "# Find the critical points by solving the equation df = 0\n",
        "critical_points = sympy.solve(df, x)\n",
        "\n",
        "# Filter out the critical points that are within the interval [0, 1]\n",
        "valid_critical_points = [ point for point in critical_points\n",
        "    if point.is_real and 0 <= float(point) <= 1]\n",
        "\n",
        "\n",
        "# Evaluate the function at the critical points and the boundary points\n",
        "function_values = []\n",
        "\n",
        "for point in valid_critical_points:\n",
        "  function_values.append((point, f.subs(x, point)))\n",
        "function_values.append((0, f.subs(x, 0)))\n",
        "function_values.append((1, f.subs(x, 1)))\n",
        "\n",
        "\n",
        "# Find the minimum value\n",
        "min_value = min(function_values, key=lambda item: item[1])\n",
        "\n",
        "\n",
        "# Print the solution\n",
        "print(\"Solution using SymPy:\")\n",
        "print(f\"Minimum value: {min_value[1]}\")\n",
        "print(f\"x-coordinate: {min_value[0]}\")\n",
        "\n",
        "\n",
        "# Plot the function and the solution\n",
        "x_vals = np.linspace(0, 1, 400)\n",
        "y_vals = [(val - 0.5)**2 + (2 - val)**(-2) for val in x_vals]\n",
        "plt.plot(x_vals, y_vals)\n",
        "plt.scatter(min_value[0], min_value[1], color='red', label=f'Minimum at x = {min_value[0]:.4f}')\n",
        "plt.xlabel('x')\n",
        "plt.ylabel('f(x)')\n",
        "plt.title('Objective Function and Minimum')\n",
        "plt.legend()\n",
        "plt.grid(True)\n",
        "plt.show()\n"
      ],
      "metadata": {
        "colab": {
          "base_uri": "https://localhost:8080/",
          "height": 524
        },
        "id": "wHPmWIg_whxZ",
        "outputId": "0055cdba-5b2b-41bf-faca-8918e3569370"
      },
      "execution_count": null,
      "outputs": [
        {
          "output_type": "stream",
          "name": "stdout",
          "text": [
            "Solution using SymPy:\n",
            "Minimum value: 0.386011527906885\n",
            "x-coordinate: 0.297392205771561\n"
          ]
        },
        {
          "output_type": "display_data",
          "data": {
            "text/plain": [
              "<Figure size 640x480 with 1 Axes>"
            ],
            "image/png": "[encoded data removed]"
          },
          "metadata": {}
        }
      ]
    },
    {
      "cell_type": "markdown",
      "source": [],
      "metadata": {
        "id": "-bLZQhAd5aea"
      }
    },
    {
      "cell_type": "markdown",
      "source": [
        "b)\n",
        "$F(x) = (x - 0.5)^2 + (2 - x)^{-2} \\rightarrow \\min \\quad a = 0,\\ b = 1$\n",
        "\n",
        "1.Schritt\n",
        "\n",
        "$\\lambda = a + (1 - \\gamma)(b-a) = 0,382 * 1 = 0,382$\n",
        "\n",
        "$\\mu = a + \\gamma(b-a) = 0,618 * 1 = 0,618$\n",
        "\n",
        "$F(\\lambda) = (0,382 - 0,5)^2 + (2 - 0,382)^{-2} = 0,3959$\n",
        "\n",
        "$F(\\mu) = (0,618 - 0,5)^2 + (2 - 0,618)^{-2} = 0,5375$\n",
        "\n",
        "$F(\\lambda) < F(\\mu)$, daher $b:= \\mu = 0,618$\n",
        "\n",
        "2.Schritt\n",
        "\n",
        "\n",
        "$\\lambda = a + (1 - \\gamma)(b-a) = 0,382 * 0,618 = 0,236$\n",
        "\n",
        "$\\mu = a + \\gamma(b-a) = 0,618 * 0,618 = 0,381924$\n",
        "\n",
        "$F(\\lambda) = (0,236 - 0,5)^2 + (2 - 0,236)^{-2} = 0,39106$\n",
        "\n",
        "$F(\\mu) = (0,381924 - 0,5)^2 + (2 - 0,381924)^{-2} = 0,39589$\n",
        "\n",
        "$F(\\lambda) < F(\\mu)$, daher $b:= \\mu = 0,381924$\n",
        "\n",
        "3.Schritt\n",
        "\n",
        "$\\lambda = a + (1 - \\gamma)(b-a) = 0,382 * 0,381924 = 0,14589$\n",
        "\n",
        "$\\mu = a + \\gamma(b-a) = 0,618 * 0,381924 = 0,236$\n",
        "\n",
        "$F(\\lambda) = 0,41628$\n",
        "\n",
        "$F(\\mu) = 0,391064$\n",
        "\n",
        "\n"
      ],
      "metadata": {
        "id": "X7pGFHYN5pJo"
      }
    },
    {
      "cell_type": "markdown",
      "source": [
        "c) Die Methode reduziert das Intervall um einen festen Faktor:\n",
        "\n",
        "$\\gamma = \\frac{\\sqrt{5} - 1}{2}$ = 0,618\n",
        "\n",
        "Nach k Iterationen ist die Intervalllänge:\n",
        "\n",
        "$(b-a)*\\gamma^2 \\leq ϵ$\n",
        "\n",
        "$k \\geq \\frac{\\dfrac{\\ln(\\varepsilon)}{\\ln(b - a)}}{\\ln(\\gamma)}$\n",
        "\n",
        "d)\n",
        "\n",
        "$ϵ = 0,1$:\n",
        "\n",
        "$k \\geq \\frac{\\dfrac{\\ln(0.1)}{\\ln(1)}}{\\ln(0,618)} = \\frac{-2,3026}{-0,4812} = 4,78$\n",
        "\n",
        "$ϵ = 0,01$:\n",
        "\n",
        "$k \\geq \\frac{\\dfrac{\\ln(0.01)}{\\ln(1)}}{\\ln(0,618)} = \\frac{-4,6052}{-0,4812} = 9,57$\n",
        "\n",
        "$ϵ = 0,005$:\n",
        "\n",
        "$k \\geq \\frac{\\dfrac{\\ln(0.005)}{\\ln(1)}}{\\ln(0,618)} = \\frac{-5,2983}{-0,4812} = 11,01$"
      ],
      "metadata": {
        "id": "D74Alxus9nCl"
      }
    },
    {
      "cell_type": "markdown",
      "metadata": {
        "id": "FuyTN55bk6q2"
      },
      "source": [
        "### Aufgabe 2"
      ]
    },
    {
      "cell_type": "markdown",
      "metadata": {
        "id": "o_0dAESxk6q2"
      },
      "source": [
        "Für folgendes Optimierungsproblem:\n",
        "\n",
        "$$ f(x) =  3 x^3 - 4x^2 + x + 2 \\to \\text{min},  \\quad 0.5 \\leq x \\leq 3$$"
      ]
    },
    {
      "cell_type": "markdown",
      "metadata": {
        "id": "E3Z4_EYkk6q3"
      },
      "source": [
        "a) Finden Sie die Lösung mit Hilfe von SymPy. Zeichnen Sie die Zielfunktion und die Lösung."
      ]
    },
    {
      "cell_type": "markdown",
      "metadata": {
        "id": "aAU8jykzk6q3"
      },
      "source": [
        "b) Führen Sie vier Iterationsschritte der Fibonacci - Suche durch. Beachten Sie, dass bei jedem Iteratonsschritt nur ein Funktionswert berechnet werden soll (sonst werden Punkte abgezogen)."
      ]
    },
    {
      "cell_type": "markdown",
      "metadata": {
        "id": "R1NX_8jGk6q3"
      },
      "source": [
        "c) Wie groß soll der kleinste  Wert von $n$ sein, um eine bestimmte Genauigkeit $\\epsilon$ für die numerische Lösung am Ende des Verfahrens zu erreichen?"
      ]
    },
    {
      "cell_type": "markdown",
      "metadata": {
        "id": "kA5gfuEFk6q3"
      },
      "source": [
        "d) Bestätigen Sie die theoretischen Überlegungen aus c) für die Wahl eines geeigneten $n$ mit Programmdurchlauf für die Lösungsgenauigkeiten $\\epsilon = 0.1 $, $\\epsilon = 0.01 $ und  $\\epsilon = 0.005$."
      ]
    },
    {
      "cell_type": "code",
      "source": [
        "# prompt: SymPy für f(x) = 3x**3 - 4x**2 + x + 2 -> min, 0.5 <= x <= 3\n",
        "import sympy\n",
        "import numpy as np\n",
        "import matplotlib.pyplot as plt\n",
        "# Define the symbolic variable and the objective function\n",
        "x = sympy.Symbol('x')\n",
        "f = 3 * x**3 - 4 * x**2 + x + 2\n",
        "\n",
        "# Find the derivative of the objective function\n",
        "df = sympy.diff(f, x)\n",
        "\n",
        "# Find the critical points by solving the equation df = 0\n",
        "critical_points = sympy.solve(df, x)\n",
        "\n",
        "# Filter out the critical points that are within the interval [0.5, 3]\n",
        "valid_critical_points = [point for point in critical_points\n",
        "                         if point.is_real and 0.5 <= float(point) <= 3]\n",
        "\n",
        "# Evaluate the function at the critical points and the boundary points\n",
        "function_values = []\n",
        "for point in valid_critical_points:\n",
        "    function_values.append((point.evalf(), f.subs(x, point).evalf()))  # evalf() für numerische Werte)\n",
        "function_values.append((0.5, f.subs(x, 0.5)))\n",
        "function_values.append((3, f.subs(x, 3)))\n",
        "\n",
        "# Find the minimum value\n",
        "min_value = min(function_values, key=lambda item: item[1])\n",
        "\n",
        "# Print the solution\n",
        "print(\"Solution using SymPy:\")\n",
        "print(f\"Minimum value: {min_value[1]}\")\n",
        "print(f\"x-coordinate: {min_value[0]}\")\n",
        "\n",
        "# Plot the function and the solution\n",
        "x_vals = np.linspace(0.5, 3, 400)\n",
        "y_vals = [3 * val**3 - 4 * val**2 + val + 2 for val in x_vals]\n",
        "plt.plot(x_vals, y_vals)\n",
        "plt.scatter(min_value[0], min_value[1], color='red',\n",
        "            label=f'Minimum at x = {min_value[0]:.4f}')\n",
        "plt.xlabel('x')\n",
        "plt.ylabel('f(x)')\n",
        "plt.title('Objective Function and Minimum')\n",
        "plt.legend()\n",
        "plt.grid(True)\n",
        "plt.show()\n"
      ],
      "metadata": {
        "colab": {
          "base_uri": "https://localhost:8080/",
          "height": 524
        },
        "id": "qjqsrADfGWTj",
        "outputId": "5ac08bfc-df85-4ab2-b7f6-92d5a29f7670"
      },
      "execution_count": 4,
      "outputs": [
        {
          "output_type": "stream",
          "name": "stdout",
          "text": [
            "Solution using SymPy:\n",
            "Minimum value: 1.76526535656418\n",
            "x-coordinate: 0.738416812340510\n"
          ]
        },
        {
          "output_type": "display_data",
          "data": {
            "text/plain": [
              "<Figure size 640x480 with 1 Axes>"
            ],
            "image/png": "[encoded data removed]"
          },
          "metadata": {}
        }
      ]
    },
    {
      "cell_type": "markdown",
      "source": [
        "b)\n",
        "\n",
        "Wir wählen n:\n",
        "\n",
        "$(a - b)/ϵ = (3 - 0,5) / 0,1 = 25$.\n",
        "\n",
        "25 liegt zwischen $c_7 = 21$ und $c_8 = 34$, daher n = 8.\n",
        "\n",
        "1.Schritt: $k_1 = 1, a_1 = 0,5, b_1 = 3.\n",
        "\n",
        "$\\lambda_1 = a_1 + (b_1 - a_1)(c_8-_1-_1/c_8-_1+_1) = 0,5 + 2,5 *13/34 = 1,4559$\n",
        "$\\mu_1 = a_1 + (b_1 - a_1)(c_8-_1/c_8-_1+_1) = 0,5 + 2,5 *21/34 = 2,0441$\n",
        "\n",
        "$f(\\lambda_1) = 4,2353, f(\\mu_1) = 12,953$, $f(\\lambda_1) < f(\\mu_1)$, daher $b_2:= \\mu_1 = 2,0441$\n",
        "\n",
        "2.Schritt: $k_2 = 2, a_2 = 0,5, b_2 = 2,0441$\n",
        "\n",
        "$\\lambda_2 = a_2 + (b_2 - a_2)(c_8-_2-_1/c_8-_2+_1) = 0,5 + (2,0441- 0,5) *8/21 = 1,0882$\n",
        "$\\mu_2 = a_2 + (b_2 - a_2)(c_8-_2/c_8-_2+_1) = 0,5 + (2,0441 - 0,5) *13/21 = 1,4559$\n",
        "\n",
        "$f(\\lambda_2) = 2,217, f(\\mu_2) = 4,2353$, $f(\\lambda_2) < f(\\mu_2)$, daher $b_3:= \\mu_2 = 1,4559$\n",
        "\n",
        "3. Schritt: $k_3 = 3, a_3 = 0,5, b_3 = 1,4559$:\n",
        "\n",
        "$\\lambda_3 = a_3 + (b_3 - a_3)(c_8-_3-_1/c_8-_3+_1) = 0,5 + (1,4559- 0,5) *5/13 = 0,868$\n",
        "$\\mu_3 = a_3 + (b_3 - a_3)(c_8-_3/c_8-_3+_1) = 0,5 + (1,4559 - 0,5) *8/13 = 1,0882$\n",
        "\n",
        "$f(\\lambda_3) = 1,8162, f(\\mu_3) = 2,21735$, $f(\\lambda_3) < f(\\mu_3)$, daher $b_4:= \\mu_3 = 1,0882$\n",
        "\n",
        "4.Schritt:  $k_4 = 4, a_4 = 0,5, b_4 = 1,0882$:\n",
        "\n",
        "$\\lambda_4 = a_4 + (b_4 - a_4)(c_8-_4-_1/c_8-_4+_1) = 0,5 + (1,0882- 0,5) *3/8 = 0,7206$\n",
        "$\\mu_4 = a_4 + (b_4 - a_4)(c_8-_4/c_8-_4+_1) = 0,5 + (1,0882 - 0,5) *5/8 = 0,8676$\n",
        "\n",
        "$f(\\lambda_4) = 1,766, f(\\mu_4) = 1,816$\n",
        "\n",
        "x-Koordinate 0,7206, Value 1,766"
      ],
      "metadata": {
        "id": "QDB_6OokdhUa"
      }
    },
    {
      "cell_type": "markdown",
      "source": [
        "c) $ (a - b)/ϵ$ ergibt eine Zahl, die liegt zwischen $c_n-_1$ und $c_n$. n ist dementsprechend zu wählen.\n",
        "\n",
        "d) Wir wählen n:\n",
        "\n",
        "$(a - b)/ϵ = (3 - 0,5) / 0,1 = 25$. n = 8\n",
        "$(a - b)/ϵ = (3 - 0,5) / 0,01 = 250$. $c_{12} = 233, c_{13} = 377$, daher n = 13\n",
        "$(a - b)/ϵ = (3 - 0,5) / 0,005 = 500$. $c_{13} = 377, c_{14} = 610$, daher n = 14."
      ],
      "metadata": {
        "id": "OQKIM0B2kO0_"
      }
    },
    {
      "cell_type": "markdown",
      "metadata": {
        "id": "fejdiVDvk6q4"
      },
      "source": [
        "### Aufgabe 3\n",
        "\n",
        "Für folgendes Optimierungsproblem:\n",
        "\n",
        "$$ f(x)= x^4 - 6 x^2 + 10 \\to \\text{min},  \\quad 1 \\leq x \\leq 3$$"
      ]
    },
    {
      "cell_type": "markdown",
      "metadata": {
        "id": "tDMoLWmgk6q4"
      },
      "source": [
        "a) Finden Sie die Lösung mit Hilfe von SymPy. Zeichnen Sie die Zielfunktion und die Lösung."
      ]
    },
    {
      "cell_type": "markdown",
      "metadata": {
        "id": "ctBGBV11k6q4"
      },
      "source": [
        "b) Führen Sie drei Iterationsschritte des Newton-Raphson Verfahrens mit dem Startwert $x =2$ durch."
      ]
    },
    {
      "cell_type": "markdown",
      "metadata": {
        "id": "2Lkynno3k6q4"
      },
      "source": [
        "c) Wie viele Schritte braucht das Newton-Raphson Verfahren, um die Lösung mit einer Genauigkeit von $\\epsilon = 0.1 $, $\\epsilon = 0.01 $ und  $\\epsilon = 0.005$ zu finden?"
      ]
    },
    {
      "cell_type": "markdown",
      "metadata": {
        "id": "dVrYN9F9k6q5"
      },
      "source": [
        "d) Zeichnen Sie eine Skizze der Zwischenlösungen sowie die optimale Lösung."
      ]
    },
    {
      "cell_type": "markdown",
      "metadata": {
        "id": "amaXi7bCk6q5"
      },
      "source": [
        "### Aufgabe 4\n",
        "\n",
        "Für folgendes Optimierungsproblem:\n",
        "$$ x_1 - 2 x_1 x_2 - 2 x_2 + x_1^2 + 4 x_2^2  \\to \\text{min}$$"
      ]
    },
    {
      "cell_type": "markdown",
      "metadata": {
        "id": "SckTxhG2k6q5"
      },
      "source": [
        "a) Finden Sie die Lösung mit Hilfe von SymPy. Zeichnen Sie die Zielfunktion und die Lösung."
      ]
    },
    {
      "cell_type": "markdown",
      "metadata": {
        "id": "_MWsctn1k6q5"
      },
      "source": [
        "b) Führen Sie zwei Iterationsschritte mit dem “Steilster Abstieg“-Verfahren mit dem Startwert $(x_1, x_2) = (0, 0)$ durch."
      ]
    },
    {
      "cell_type": "markdown",
      "metadata": {
        "id": "XV4S01Llk6q6"
      },
      "source": [
        "c) Wie viele Schritte braucht das “Steilster Abstieg“-Verfahren, um die Lösung mit einer Genauigkeit von  $\\epsilon = 0.1 $, $\\epsilon = 0.01 $ und  $\\epsilon = 0.005$ zu finden?"
      ]
    },
    {
      "cell_type": "markdown",
      "metadata": {
        "id": "62q7r00sk6q6"
      },
      "source": [
        "d) Zeichnen Sie eine Skizze der Zwischenlösungen sowie die optimale Lösung."
      ]
    },
    {
      "cell_type": "markdown",
      "metadata": {
        "id": "q9KTXAB6k6q7"
      },
      "source": [
        "### Aufgabe 5.\n",
        "\n",
        "Für folgendes Optimierungsproblem:\n",
        "$$ 9 x_1^2 + 4 x_2^2 − 12 x_1 + 12 x_2 +11 \\to \\text{min} $$"
      ]
    },
    {
      "cell_type": "markdown",
      "metadata": {
        "id": "F_Aa1XQ3k6q7"
      },
      "source": [
        "(a) Finden Sie den Punkt, in welchem die notwendigen Optimalitätskriterien erster Ordnung erfüllt sind."
      ]
    },
    {
      "cell_type": "markdown",
      "metadata": {
        "id": "2a7zNFrRk6q7"
      },
      "source": [
        "(b) Zeigen Sie, dass dieser Punkt ein globales Minimum ist."
      ]
    },
    {
      "cell_type": "markdown",
      "metadata": {
        "id": "OOGakGK3k6q7"
      },
      "source": [
        "(c) Suchen Sie ausgehend vom Punkt $(x_1, x_2) = (0, 0)$ das Minimum mit dem Algorithmus von Newton und Raphson.\n"
      ]
    },
    {
      "cell_type": "markdown",
      "metadata": {
        "id": "_pzlN7IXk6q8"
      },
      "source": [
        "d) Zeichnen Sie eine Skizze der Zwischenlösungen und die optimale Lösung."
      ]
    },
    {
      "cell_type": "markdown",
      "metadata": {
        "id": "z_EU98_Ak6q8"
      },
      "source": [
        "### Aufgabe 6\n",
        "\n",
        "Lösen Sie folgendes Problem mit der Polytop-Methode (Nelder & Mead)\n",
        "\n",
        "$$ 9 x_1^2 + 4 x_2^2 - 12 x_1 + 12 x_2 +11 \\to \\text{min} $$\n",
        "\n",
        "Verwenden Sie dabei die Parameter $\\alpha = 1, \\beta= 2, \\gamma = 1/2$ und die Startvektoren $ x=(3,0), y = (0,3), z = (0,0)$.\n"
      ]
    },
    {
      "cell_type": "code",
      "execution_count": null,
      "metadata": {
        "vscode": {
          "languageId": "plaintext"
        },
        "id": "t8yag5b9k6q9"
      },
      "outputs": [],
      "source": []
    }
  ],
  "metadata": {
    "kernelspec": {
      "display_name": "Python 3 (ipykernel)",
      "language": "python",
      "name": "python3"
    },
    "language_info": {
      "codemirror_mode": {
        "name": "ipython",
        "version": 3
      },
      "file_extension": ".py",
      "mimetype": "text/x-python",
      "name": "python",
      "nbconvert_exporter": "python",
      "pygments_lexer": "ipython3",
      "version": "3.10.10"
    },
    "colab": {
      "provenance": []
    }
  },
  "nbformat": 4,
  "nbformat_minor": 0
}