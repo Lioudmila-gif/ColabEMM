{
  "cells": [
    {
      "cell_type": "markdown",
      "metadata": {
        "id": "view-in-github",
        "colab_type": "text"
      },
      "source": [
        "<a href=\"https://colab.research.google.com/github/Lioudmila-gif/ColabEMM/blob/main/Aufgabenblatt_4.ipynb\" target=\"_parent\"><img src=\"https://colab.research.google.com/assets/colab-badge.svg\" alt=\"Open In Colab\"/></a>"
      ]
    },
    {
      "cell_type": "markdown",
      "metadata": {
        "id": "IuTzPE0v_Ubq"
      },
      "source": [
        "# Aufgabenblatt 4"
      ]
    },
    {
      "cell_type": "markdown",
      "metadata": {
        "id": "CDeW-n8v_Ubs"
      },
      "source": [
        "## Lineare Optimierung - Duales Problem, Schattenpreise\n"
      ]
    },
    {
      "cell_type": "markdown",
      "metadata": {
        "id": "qYCig5rB_Ubt"
      },
      "source": [
        "### Aufgabe 1\n",
        "\n",
        "Lösen Sie das LP-Problem mit dem Simplex-Algorithmus:\n",
        "\n",
        "\\begin{array}{rcl}\n",
        "1000 x_1 + 200 x_2 + 400 x_3 &\\to& \\max\\\\\n",
        "x_1 + x_2 + 8 x_3 &\\leq& 250\\\\\n",
        "20 x_1  + 2 x_2 + x_3&\\leq& 200\\\\\n",
        "x_1, x_2, x_3 &\\geq& 0\n",
        "\\end{array}\n",
        "\n",
        "a) Um wieviel kann der optimale Zielfunktionswert erhöht werden, wenn man die rechte Seite der ersten Nebenbedingung von 250 auf 251 erhöht?\n",
        "\n",
        "b) Ermitteln Sie die Schattenpreise und interpretieren Sie diese Werte.\n",
        "\n",
        "c) Schreiben Sie das duale System auf.  \n",
        "\n",
        "d) Was ist die Lösung des dualen Systems?\n",
        "\n",
        "e) Ermitteln Sie die Schattenpreise des dualen Systems.\n",
        "\n",
        "f) Vergleichen Sie beide Lösungen. Welche Zusammenhänge in Bezug auf Dualität können Sie feststellen?\n",
        "\n",
        "g) Prüfen Sie Ihre händischen Lösungen von a) - f) mit dem Python-Programm linprog"
      ]
    },
    {
      "cell_type": "markdown",
      "metadata": {
        "id": "PIkJ5GRz_Ubu"
      },
      "source": [
        "### Aufgabe 2.\n",
        "\n",
        "Es sollen drei Lacke $L_1,\\, L_2, \\, L_3$ hergestellt werden, deren Nettoerlöse pro Einheit jeweils 1 sind.\n",
        "Dabei sind zwei verschiedene Ressourcen $R_1, \\,R_2$ einzusetzen. Bei der Produktion jeweils einer Einheit von $L_1,\\, L_2$ bzw. $L_3$ werden eine, zwei bzw. eine Einheit von $R_1$ verbraucht und insgesamt stehen drei Einheiten von $R_1$ zur Verfügung.\n",
        "\n",
        "Bei der Produktion einer Einheit von $L_1$ bzw. $ L_2$ werden -2 bzw. eine Einheit von $R_2$ benötigt. Bei der Produktion einer Einheit von $L_1$ werden also jeweils zwei Einheiten von $R_2$ mitproduziert, welche als Ressource für die Produktion von $L_2$ verwendet werden kann. Die Ressource $R_2$\n",
        "ist so knapp, dass ihr Verbrauch im Gesamtprozess nicht positiv sein darf.\n",
        "\n",
        "Die Produktion von $L_1,\\, L_2$ bzw. $L_3$  unterliegt Kartellobergrenzen mit jeweils einer Einheit.\n",
        "\n",
        "Der Produktionsprozess soll die Lacke $L_1,\\, L_2,\\, L_3$  in nichtnegativer Menge herstellen. Es handelt sich somit um einen reinen Produktions-, nicht aber um einen (Teil-) Entsorgungsprozess.\n",
        "\n",
        "a) Erstellen Sie ein Lineares Programm (LP) in der Standardform.\n",
        "\n",
        "b) Finden Sie die optimale Lösung sowie den Optimalwert\n",
        "der Zielfunktion.\n",
        "\n",
        "c) Zeichnen Sie die Menge aller zulässigen Produktionsprogramme sowie die  eindeutig bestimmte optimale Lösung.\n",
        "\n"
      ]
    },
    {
      "cell_type": "markdown",
      "metadata": {
        "id": "QQqcbF3N_Ubv"
      },
      "source": [
        "### Aufgabe 3\n",
        "\n",
        "\n",
        "Ein Fitnessstudio bietet seinen Gästen am „Tag der offenen Tür“ Fruchtcocktails an. Aus Orangen- und Ananassaft sollen mindestens 12 Liter eines neuen Fruchtcocktails gemischt werden. Verwendet werden sollen höchstens 5 Liter Ananassaft. Die Mischung schmeckt nur, wenn die Menge des Ananassaftes mindestens 1/5 und höchstens 1/3 des Orangensaftes beträgt. Der Orangensaft kostet €2 und der Ananassaft €5 je Liter. Wie viel Liter Saft jeder Sorte müssen genommen werden, wenn die Kosten für den Einkauf möglichst gering gehalten werden sollen?\n",
        "\n",
        "a) Stellen Sie das lineare Programm auf.\n",
        "\n",
        "b) Lösen Sie das lineare Programm graphisch durch Schnitt der bindenden Nebenbedingungen und berechnen Sie den Zielfunktionswert.\n",
        "\n",
        "c) Formulieren Sie das duale Programm.\n",
        "\n",
        "d) Lösen Sie das duale LP Problem mit dem Simplex Algorithmus.\n",
        "\n",
        "e) Lesen Sie aus dem Simplex-Tableau die Lösung des primären Programs ab.\n",
        "\n",
        "f) Wenn die zulässige Menge vom Ananassaft um 1 Liter erhöht bzw. um 2 Liter reduziert wird, um wieviel € steigen oder fallen die Einkaufskosten? Lesen Sie den Wert aus der Grafik sowie aus dem Simplex-Tableau.\n",
        "\n",
        "g) Wenn die notwendige Menge des Fruchtcocktails um 2 Liter erhöht (bzw. reduziert wird), um wieviel € steigen (bzw. fallen) die Einkaufskosten? Erklären Sie diese Werte mit Hilfe der Grafik sowie mit dem Simplex-Tableau.\n"
      ]
    },
    {
      "cell_type": "markdown",
      "metadata": {
        "id": "qUYkdEjE_Ubw"
      },
      "source": [
        "### Aufgabe 3\n",
        "\n",
        "Ein Bergbauunternehmen muss wöchentlich 1 kt (Kilotonnne) Kohle der Qualität A, 0.7 kt der Qualität B, 2 kt der Qualität C und  4.5 kt der Qualität D liefern. Die Kosten pro Tag betragen bei Schacht 1 40 Tausend EUR und bei Schacht 2  100 Tausend EUR. Die Förderung je Tag (in kt) ist folgender Tabelle zu entnehmen:"
      ]
    },
    {
      "cell_type": "code",
      "execution_count": null,
      "metadata": {
        "id": "E0uP9Lzi_Ubx",
        "outputId": "980f6669-8cb9-4485-b620-0b1d352cc0b0"
      },
      "outputs": [
        {
          "data": {
            "text/html": [
              "<div>\n",
              "<style scoped>\n",
              "    .dataframe tbody tr th:only-of-type {\n",
              "        vertical-align: middle;\n",
              "    }\n",
              "\n",
              "    .dataframe tbody tr th {\n",
              "        vertical-align: top;\n",
              "    }\n",
              "\n",
              "    .dataframe thead th {\n",
              "        text-align: right;\n",
              "    }\n",
              "</style>\n",
              "<table border=\"1\" class=\"dataframe\">\n",
              "  <thead>\n",
              "    <tr style=\"text-align: right;\">\n",
              "      <th></th>\n",
              "      <th>A</th>\n",
              "      <th>B</th>\n",
              "      <th>C</th>\n",
              "      <th>D</th>\n",
              "    </tr>\n",
              "  </thead>\n",
              "  <tbody>\n",
              "    <tr>\n",
              "      <th>Schacht 1</th>\n",
              "      <td>0.2</td>\n",
              "      <td>0.1</td>\n",
              "      <td>0.2</td>\n",
              "      <td>0.4</td>\n",
              "    </tr>\n",
              "    <tr>\n",
              "      <th>Schacht 2</th>\n",
              "      <td>0.1</td>\n",
              "      <td>0.1</td>\n",
              "      <td>0.5</td>\n",
              "      <td>1.5</td>\n",
              "    </tr>\n",
              "  </tbody>\n",
              "</table>\n",
              "</div>"
            ],
            "text/plain": [
              "             A    B    C    D\n",
              "Schacht 1  0.2  0.1  0.2  0.4\n",
              "Schacht 2  0.1  0.1  0.5  1.5"
            ]
          },
          "execution_count": 1,
          "metadata": {},
          "output_type": "execute_result"
        }
      ],
      "source": [
        "import pandas as pd\n",
        "import numpy as np\n",
        "Schacht_1 =\"Schacht 1\"\n",
        "Schacht_2 =\"Schacht 2\"\n",
        "row_labels=[Schacht_1,Schacht_2]\n",
        "df = pd.DataFrame(data = np.array([[0.2,0.1,0.2,0.4],[0.1,0.1,0.5,1.5]]), columns = ['A','B','C','D'], index=row_labels)\n",
        "df"
      ]
    },
    {
      "cell_type": "markdown",
      "metadata": {
        "id": "3oKqtcWW_Ubz"
      },
      "source": [
        "a) Formulieren Sie das zugehörige lineare Optimierungsproblem.\n",
        "\n",
        "b) Lösen Sie es auf graphischem Weg.\n",
        "\n",
        "c) Bringen Sie es in erweiterte Standardform.\n",
        "\n",
        "d) Lösen Sie es mit linprog.\n",
        "\n",
        "e) Lösen Sie es mit dem Simplex-Algorithmus\n",
        "\n",
        "f)  Lösen Sie das duale LP Problem mit dem Simplex-Algorithmus.\n",
        "\n",
        "g) Ermitteln Sie die Schattenpreise und interpretieren Sie diese Werte."
      ]
    },
    {
      "cell_type": "markdown",
      "metadata": {
        "id": "Pxyqxlii_Ub0"
      },
      "source": [
        "### Aufgabe 4\n",
        "\n",
        "Lösen Sie das LP-Problem\n",
        "\n",
        "\\begin{array}{rcl}\n",
        "-2 x_1 - x_2 - 7 x_3   &\\to& \\min\\\\\n",
        "x_1  + 2x_2 + 3 x_3   &  \\leq & 4\\\\\n",
        "- x_1   - 4 x_2 + 10 x_3   &  \\leq & 7\\\\\n",
        "x_1, x_2, x_3 &\\geq& 0\n",
        "\\end{array}"
      ]
    },
    {
      "cell_type": "markdown",
      "metadata": {
        "id": "cBeWN4Jp_Ub0"
      },
      "source": [
        "### Aufgabe 5\n",
        "\n",
        "Lösen Sie das LP-Problem sowie das duale LP-Problem:\n",
        "\n",
        "\n",
        "\\begin{array}{rcl}\n",
        "5 x_5 + 2x_4   &\\to& \\max\\\\\n",
        "2x_1 - 4x_2 + 2 x_3 + x_4 - 7x_5  &  = & 18\\\\\n",
        "x_1   -  x_2  -2 x_3 - 5 x_4 + 6 x_5 & = & -19\\\\\n",
        "2x_2   - 4 x_3  -7 x_4 + 13 x_5 & = & -4\\\\\n",
        "x_1, x_2, x_3, x_4,x_5 &\\geq& 0\n",
        "\\end{array}"
      ]
    }
  ],
  "metadata": {
    "kernelspec": {
      "display_name": "Python 3 (ipykernel)",
      "language": "python",
      "name": "python3"
    },
    "language_info": {
      "codemirror_mode": {
        "name": "ipython",
        "version": 3
      },
      "file_extension": ".py",
      "mimetype": "text/x-python",
      "name": "python",
      "nbconvert_exporter": "python",
      "pygments_lexer": "ipython3",
      "version": "3.12.6"
    },
    "colab": {
      "provenance": [],
      "include_colab_link": true
    }
  },
  "nbformat": 4,
  "nbformat_minor": 0
}